{
 "cells": [
  {
   "cell_type": "markdown",
   "metadata": {},
   "source": [
    "+ Cách tổ chức tập dữ liệu hình ảnh huấn luyện, xác nhận và kiểm tra thành một cấu trúc thư mục nhất quán.\n",
    "+ Cách sử dụng lớp ImageDataGenerator để tải dần các hình ảnh cho một tập dữ liệu nhất định.\n",
    "+ Cách sử dụng trình tạo dữ liệu đã chuẩn bị để đào tạo, đánh giá và đưa ra dự đoán với mô hình học sâu."
   ]
  },
  {
   "cell_type": "markdown",
   "metadata": {},
   "source": [
    "## **1. Dataset Directory Structure**"
   ]
  },
  {
   "cell_type": "code",
   "execution_count": 29,
   "metadata": {},
   "outputs": [
    {
     "name": "stdout",
     "output_type": "stream",
     "text": [
      "RGB\n",
      "(640, 398)\n"
     ]
    }
   ],
   "source": [
    "# create flipped versions of an image\n",
    "from PIL import Image\n",
    "image = Image.open('/home/tuandinh/Desktop/AI and Machine Learning/Deep Learninig/data/train/blue/blue_car_01.jpg')\n",
    "print(image.mode)\n",
    "print(image.size)"
   ]
  },
  {
   "cell_type": "markdown",
   "metadata": {},
   "source": [
    "> Cách tải dần hình ảnh\n",
    ">\n",
    "> we can use the ImageDataGenerator class provided by Keras:\n",
    "1. Construct and configure an instance of the ImageDataGenerator class.\n",
    "2. Retrieve an iterator by calling the flow from directory() function.\n",
    "3. Use the iterator in the training or evaluation of a model.\n",
    ">\n",
    "1. Xây dựng và cấu hình một thể hiện của lớp ImageDataGenerator.\n",
    "2. Lấy một trình lặp bằng cách gọi hàm luồng từ thư mục ().\n",
    "3. Sử dụng trình lặp trong việc đào tạo hoặc đánh giá một mô hình."
   ]
  },
  {
   "cell_type": "code",
   "execution_count": 2,
   "metadata": {},
   "outputs": [
    {
     "name": "stderr",
     "output_type": "stream",
     "text": [
      "2022-08-06 23:25:10.955868: W tensorflow/stream_executor/platform/default/dso_loader.cc:64] Could not load dynamic library 'libcudart.so.11.0'; dlerror: libcudart.so.11.0: cannot open shared object file: No such file or directory\n",
      "2022-08-06 23:25:10.955901: I tensorflow/stream_executor/cuda/cudart_stub.cc:29] Ignore above cudart dlerror if you do not have a GPU set up on your machine.\n"
     ]
    }
   ],
   "source": [
    "from keras.preprocessing.image import ImageDataGenerator\n",
    "datagen = ImageDataGenerator()"
   ]
  },
  {
   "cell_type": "code",
   "execution_count": 3,
   "metadata": {},
   "outputs": [
    {
     "name": "stdout",
     "output_type": "stream",
     "text": [
      "Found 2 images belonging to 2 classes.\n",
      "Found 2 images belonging to 2 classes.\n",
      "Found 2 images belonging to 2 classes.\n",
      "Batch shape=(2, 256, 256, 3), min=0.000, max=255.000\n",
      "<keras.preprocessing.image.DirectoryIterator object at 0x7fdad6c05490>\n"
     ]
    }
   ],
   "source": [
    "# load and iterate training dataset\n",
    "train_path = '/home/tuandinh/Desktop/AI and Machine Learning/Deep Learninig/data/train'\n",
    "val_path = '/home/tuandinh/Desktop/AI and Machine Learning/Deep Learninig/data/validation'\n",
    "test_path = '/home/tuandinh/Desktop/AI and Machine Learning/Deep Learninig/data/test'\n",
    "\n",
    "train_it = datagen.flow_from_directory(train_path, \n",
    "                            class_mode='binary', \n",
    "                            batch_size=64,\n",
    "                            shuffle=True,\n",
    "                            color_mode='rgb')\n",
    "val_it = datagen.flow_from_directory(val_path, \n",
    "                            class_mode='binary', \n",
    "                            batch_size=64,\n",
    "                            shuffle=True,\n",
    "                            color_mode='rgb')\n",
    "test_it = datagen.flow_from_directory(test_path,\n",
    "                            class_mode='binary', \n",
    "                            batch_size=64,\n",
    "                            shuffle=True,\n",
    "                            color_mode='rgb')\n",
    "batchX, batchY = train_it.next()\n",
    "print('Batch shape=%s, min=%.3f, max=%.3f' % (batchX.shape, batchX.min(), batchX.max()))\n",
    "print(train_it)\n"
   ]
  },
  {
   "cell_type": "markdown",
   "metadata": {},
   "source": [
    "+ batch_size = 64 =>> epochs = 100/64 = 16"
   ]
  },
  {
   "cell_type": "code",
   "execution_count": 8,
   "metadata": {},
   "outputs": [],
   "source": [
    "\n",
    "from keras.datasets import mnist\n",
    "from keras.utils import to_categorical\n",
    "from keras.models import Sequential\n",
    "from keras.layers import Dense, MaxPooling2D, Flatten, Conv2D\n",
    "# defining the model\n",
    "model = Sequential()\n",
    "model.add(Conv2D(32, (3, 3), activation='relu', input_shape=(256,256,3)))\n",
    "model.add(MaxPooling2D(pool_size=(2, 2)))\n",
    "model.add(Conv2D(64, (3, 3), activation='relu'))\n",
    "model.add(MaxPooling2D(pool_size=(2, 2)))\n",
    "model.add(Flatten())\n",
    "model.add(Dense(64, activation='relu'))\n",
    "model.add(Dense(2, activation='sigmoid'))\n",
    "# compiling the  model\n",
    "model.compile(optimizer= 'adam', loss='binary_crossentropy',\n",
    "              metrics=['accuracy'])"
   ]
  },
  {
   "cell_type": "markdown",
   "metadata": {},
   "source": [
    "### Some flase and i try to fix it"
   ]
  },
  {
   "cell_type": "code",
   "execution_count": 9,
   "metadata": {},
   "outputs": [
    {
     "name": "stderr",
     "output_type": "stream",
     "text": [
      "/tmp/ipykernel_13186/3323959710.py:1: UserWarning: `Model.fit_generator` is deprecated and will be removed in a future version. Please use `Model.fit`, which supports generators.\n",
      "  model.fit_generator(train_it, steps_per_epoch=16, validation_data=val_it,\n"
     ]
    },
    {
     "ename": "ValueError",
     "evalue": "in user code:\n\n    File \"/home/tuandinh/Desktop/AI and Machine Learning/Deep Learninig/tuanenv/lib/python3.8/site-packages/keras/engine/training.py\", line 1051, in train_function  *\n        return step_function(self, iterator)\n    File \"/home/tuandinh/Desktop/AI and Machine Learning/Deep Learninig/tuanenv/lib/python3.8/site-packages/keras/engine/training.py\", line 1040, in step_function  **\n        outputs = model.distribute_strategy.run(run_step, args=(data,))\n    File \"/home/tuandinh/Desktop/AI and Machine Learning/Deep Learninig/tuanenv/lib/python3.8/site-packages/keras/engine/training.py\", line 1030, in run_step  **\n        outputs = model.train_step(data)\n    File \"/home/tuandinh/Desktop/AI and Machine Learning/Deep Learninig/tuanenv/lib/python3.8/site-packages/keras/engine/training.py\", line 890, in train_step\n        loss = self.compute_loss(x, y, y_pred, sample_weight)\n    File \"/home/tuandinh/Desktop/AI and Machine Learning/Deep Learninig/tuanenv/lib/python3.8/site-packages/keras/engine/training.py\", line 948, in compute_loss\n        return self.compiled_loss(\n    File \"/home/tuandinh/Desktop/AI and Machine Learning/Deep Learninig/tuanenv/lib/python3.8/site-packages/keras/engine/compile_utils.py\", line 201, in __call__\n        loss_value = loss_obj(y_t, y_p, sample_weight=sw)\n    File \"/home/tuandinh/Desktop/AI and Machine Learning/Deep Learninig/tuanenv/lib/python3.8/site-packages/keras/losses.py\", line 139, in __call__\n        losses = call_fn(y_true, y_pred)\n    File \"/home/tuandinh/Desktop/AI and Machine Learning/Deep Learninig/tuanenv/lib/python3.8/site-packages/keras/losses.py\", line 243, in call  **\n        return ag_fn(y_true, y_pred, **self._fn_kwargs)\n    File \"/home/tuandinh/Desktop/AI and Machine Learning/Deep Learninig/tuanenv/lib/python3.8/site-packages/keras/losses.py\", line 1930, in binary_crossentropy\n        backend.binary_crossentropy(y_true, y_pred, from_logits=from_logits),\n    File \"/home/tuandinh/Desktop/AI and Machine Learning/Deep Learninig/tuanenv/lib/python3.8/site-packages/keras/backend.py\", line 5283, in binary_crossentropy\n        return tf.nn.sigmoid_cross_entropy_with_logits(labels=target, logits=output)\n\n    ValueError: `logits` and `labels` must have the same shape, received ((None, 2) vs (None, 1)).\n",
     "output_type": "error",
     "traceback": [
      "\u001b[0;31m---------------------------------------------------------------------------\u001b[0m",
      "\u001b[0;31mValueError\u001b[0m                                Traceback (most recent call last)",
      "\u001b[1;32m/home/tuandinh/Desktop/AI and Machine Learning/Deep Learninig/Image Preparagation/ Load Large Datasets From Directories with keras.ipynb Cell 9\u001b[0m in \u001b[0;36m<cell line: 1>\u001b[0;34m()\u001b[0m\n\u001b[0;32m----> <a href='vscode-notebook-cell:/home/tuandinh/Desktop/AI%20and%20Machine%20Learning/Deep%20Learninig/Image%20Preparagation/%20Load%20Large%20Datasets%20From%20Directories%20with%20keras.ipynb#X11sZmlsZQ%3D%3D?line=0'>1</a>\u001b[0m model\u001b[39m.\u001b[39;49mfit_generator(train_it, steps_per_epoch\u001b[39m=\u001b[39;49m\u001b[39m16\u001b[39;49m, validation_data\u001b[39m=\u001b[39;49mval_it,\n\u001b[1;32m      <a href='vscode-notebook-cell:/home/tuandinh/Desktop/AI%20and%20Machine%20Learning/Deep%20Learninig/Image%20Preparagation/%20Load%20Large%20Datasets%20From%20Directories%20with%20keras.ipynb#X11sZmlsZQ%3D%3D?line=1'>2</a>\u001b[0m                         validation_steps\u001b[39m=\u001b[39;49m\u001b[39m8\u001b[39;49m)\n",
      "File \u001b[0;32m~/Desktop/AI and Machine Learning/Deep Learninig/tuanenv/lib/python3.8/site-packages/keras/engine/training.py:2260\u001b[0m, in \u001b[0;36mModel.fit_generator\u001b[0;34m(self, generator, steps_per_epoch, epochs, verbose, callbacks, validation_data, validation_steps, validation_freq, class_weight, max_queue_size, workers, use_multiprocessing, shuffle, initial_epoch)\u001b[0m\n\u001b[1;32m   2249\u001b[0m \u001b[39m\"\"\"Fits the model on data yielded batch-by-batch by a Python generator.\u001b[39;00m\n\u001b[1;32m   2250\u001b[0m \n\u001b[1;32m   2251\u001b[0m \u001b[39mDEPRECATED:\u001b[39;00m\n\u001b[1;32m   2252\u001b[0m \u001b[39m  `Model.fit` now supports generators, so there is no longer any need to use\u001b[39;00m\n\u001b[1;32m   2253\u001b[0m \u001b[39m  this endpoint.\u001b[39;00m\n\u001b[1;32m   2254\u001b[0m \u001b[39m\"\"\"\u001b[39;00m\n\u001b[1;32m   2255\u001b[0m warnings\u001b[39m.\u001b[39mwarn(\n\u001b[1;32m   2256\u001b[0m     \u001b[39m'\u001b[39m\u001b[39m`Model.fit_generator` is deprecated and \u001b[39m\u001b[39m'\u001b[39m\n\u001b[1;32m   2257\u001b[0m     \u001b[39m'\u001b[39m\u001b[39mwill be removed in a future version. \u001b[39m\u001b[39m'\u001b[39m\n\u001b[1;32m   2258\u001b[0m     \u001b[39m'\u001b[39m\u001b[39mPlease use `Model.fit`, which supports generators.\u001b[39m\u001b[39m'\u001b[39m,\n\u001b[1;32m   2259\u001b[0m     stacklevel\u001b[39m=\u001b[39m\u001b[39m2\u001b[39m)\n\u001b[0;32m-> 2260\u001b[0m \u001b[39mreturn\u001b[39;00m \u001b[39mself\u001b[39;49m\u001b[39m.\u001b[39;49mfit(\n\u001b[1;32m   2261\u001b[0m     generator,\n\u001b[1;32m   2262\u001b[0m     steps_per_epoch\u001b[39m=\u001b[39;49msteps_per_epoch,\n\u001b[1;32m   2263\u001b[0m     epochs\u001b[39m=\u001b[39;49mepochs,\n\u001b[1;32m   2264\u001b[0m     verbose\u001b[39m=\u001b[39;49mverbose,\n\u001b[1;32m   2265\u001b[0m     callbacks\u001b[39m=\u001b[39;49mcallbacks,\n\u001b[1;32m   2266\u001b[0m     validation_data\u001b[39m=\u001b[39;49mvalidation_data,\n\u001b[1;32m   2267\u001b[0m     validation_steps\u001b[39m=\u001b[39;49mvalidation_steps,\n\u001b[1;32m   2268\u001b[0m     validation_freq\u001b[39m=\u001b[39;49mvalidation_freq,\n\u001b[1;32m   2269\u001b[0m     class_weight\u001b[39m=\u001b[39;49mclass_weight,\n\u001b[1;32m   2270\u001b[0m     max_queue_size\u001b[39m=\u001b[39;49mmax_queue_size,\n\u001b[1;32m   2271\u001b[0m     workers\u001b[39m=\u001b[39;49mworkers,\n\u001b[1;32m   2272\u001b[0m     use_multiprocessing\u001b[39m=\u001b[39;49muse_multiprocessing,\n\u001b[1;32m   2273\u001b[0m     shuffle\u001b[39m=\u001b[39;49mshuffle,\n\u001b[1;32m   2274\u001b[0m     initial_epoch\u001b[39m=\u001b[39;49minitial_epoch)\n",
      "File \u001b[0;32m~/Desktop/AI and Machine Learning/Deep Learninig/tuanenv/lib/python3.8/site-packages/keras/utils/traceback_utils.py:67\u001b[0m, in \u001b[0;36mfilter_traceback.<locals>.error_handler\u001b[0;34m(*args, **kwargs)\u001b[0m\n\u001b[1;32m     65\u001b[0m \u001b[39mexcept\u001b[39;00m \u001b[39mException\u001b[39;00m \u001b[39mas\u001b[39;00m e:  \u001b[39m# pylint: disable=broad-except\u001b[39;00m\n\u001b[1;32m     66\u001b[0m   filtered_tb \u001b[39m=\u001b[39m _process_traceback_frames(e\u001b[39m.\u001b[39m__traceback__)\n\u001b[0;32m---> 67\u001b[0m   \u001b[39mraise\u001b[39;00m e\u001b[39m.\u001b[39mwith_traceback(filtered_tb) \u001b[39mfrom\u001b[39;00m \u001b[39mNone\u001b[39m\n\u001b[1;32m     68\u001b[0m \u001b[39mfinally\u001b[39;00m:\n\u001b[1;32m     69\u001b[0m   \u001b[39mdel\u001b[39;00m filtered_tb\n",
      "File \u001b[0;32m/tmp/__autograph_generated_file7zqbj0nr.py:15\u001b[0m, in \u001b[0;36mouter_factory.<locals>.inner_factory.<locals>.tf__train_function\u001b[0;34m(iterator)\u001b[0m\n\u001b[1;32m     13\u001b[0m \u001b[39mtry\u001b[39;00m:\n\u001b[1;32m     14\u001b[0m     do_return \u001b[39m=\u001b[39m \u001b[39mTrue\u001b[39;00m\n\u001b[0;32m---> 15\u001b[0m     retval_ \u001b[39m=\u001b[39m ag__\u001b[39m.\u001b[39mconverted_call(ag__\u001b[39m.\u001b[39mld(step_function), (ag__\u001b[39m.\u001b[39mld(\u001b[39mself\u001b[39m), ag__\u001b[39m.\u001b[39mld(iterator)), \u001b[39mNone\u001b[39;00m, fscope)\n\u001b[1;32m     16\u001b[0m \u001b[39mexcept\u001b[39;00m:\n\u001b[1;32m     17\u001b[0m     do_return \u001b[39m=\u001b[39m \u001b[39mFalse\u001b[39;00m\n",
      "\u001b[0;31mValueError\u001b[0m: in user code:\n\n    File \"/home/tuandinh/Desktop/AI and Machine Learning/Deep Learninig/tuanenv/lib/python3.8/site-packages/keras/engine/training.py\", line 1051, in train_function  *\n        return step_function(self, iterator)\n    File \"/home/tuandinh/Desktop/AI and Machine Learning/Deep Learninig/tuanenv/lib/python3.8/site-packages/keras/engine/training.py\", line 1040, in step_function  **\n        outputs = model.distribute_strategy.run(run_step, args=(data,))\n    File \"/home/tuandinh/Desktop/AI and Machine Learning/Deep Learninig/tuanenv/lib/python3.8/site-packages/keras/engine/training.py\", line 1030, in run_step  **\n        outputs = model.train_step(data)\n    File \"/home/tuandinh/Desktop/AI and Machine Learning/Deep Learninig/tuanenv/lib/python3.8/site-packages/keras/engine/training.py\", line 890, in train_step\n        loss = self.compute_loss(x, y, y_pred, sample_weight)\n    File \"/home/tuandinh/Desktop/AI and Machine Learning/Deep Learninig/tuanenv/lib/python3.8/site-packages/keras/engine/training.py\", line 948, in compute_loss\n        return self.compiled_loss(\n    File \"/home/tuandinh/Desktop/AI and Machine Learning/Deep Learninig/tuanenv/lib/python3.8/site-packages/keras/engine/compile_utils.py\", line 201, in __call__\n        loss_value = loss_obj(y_t, y_p, sample_weight=sw)\n    File \"/home/tuandinh/Desktop/AI and Machine Learning/Deep Learninig/tuanenv/lib/python3.8/site-packages/keras/losses.py\", line 139, in __call__\n        losses = call_fn(y_true, y_pred)\n    File \"/home/tuandinh/Desktop/AI and Machine Learning/Deep Learninig/tuanenv/lib/python3.8/site-packages/keras/losses.py\", line 243, in call  **\n        return ag_fn(y_true, y_pred, **self._fn_kwargs)\n    File \"/home/tuandinh/Desktop/AI and Machine Learning/Deep Learninig/tuanenv/lib/python3.8/site-packages/keras/losses.py\", line 1930, in binary_crossentropy\n        backend.binary_crossentropy(y_true, y_pred, from_logits=from_logits),\n    File \"/home/tuandinh/Desktop/AI and Machine Learning/Deep Learninig/tuanenv/lib/python3.8/site-packages/keras/backend.py\", line 5283, in binary_crossentropy\n        return tf.nn.sigmoid_cross_entropy_with_logits(labels=target, logits=output)\n\n    ValueError: `logits` and `labels` must have the same shape, received ((None, 2) vs (None, 1)).\n"
     ]
    }
   ],
   "source": [
    "model.fit_generator(train_it, steps_per_epoch=16, validation_data=val_it,\n",
    "                        validation_steps=8)"
   ]
  },
  {
   "cell_type": "code",
   "execution_count": null,
   "metadata": {},
   "outputs": [
    {
     "ename": "NameError",
     "evalue": "name 'model' is not defined",
     "output_type": "error",
     "traceback": [
      "\u001b[0;31m---------------------------------------------------------------------------\u001b[0m",
      "\u001b[0;31mNameError\u001b[0m                                 Traceback (most recent call last)",
      "\u001b[1;32m/home/tuandinh/Desktop/AI and Machine Learning/Deep Learninig/Image Preparagation/ Load Large Datasets From Directories with keras.ipynb Cell 8\u001b[0m in \u001b[0;36m<cell line: 2>\u001b[0;34m()\u001b[0m\n\u001b[1;32m      <a href='vscode-notebook-cell:/home/tuandinh/Desktop/AI%20and%20Machine%20Learning/Deep%20Learninig/Image%20Preparagation/%20Load%20Large%20Datasets%20From%20Directories%20with%20keras.ipynb#X13sZmlsZQ%3D%3D?line=0'>1</a>\u001b[0m \u001b[39m# evalue model\u001b[39;00m\n\u001b[0;32m----> <a href='vscode-notebook-cell:/home/tuandinh/Desktop/AI%20and%20Machine%20Learning/Deep%20Learninig/Image%20Preparagation/%20Load%20Large%20Datasets%20From%20Directories%20with%20keras.ipynb#X13sZmlsZQ%3D%3D?line=1'>2</a>\u001b[0m loss \u001b[39m=\u001b[39m model\u001b[39m.\u001b[39mevaluate_generator(test_it, steps\u001b[39m=\u001b[39m\u001b[39m24\u001b[39m)\n",
      "\u001b[0;31mNameError\u001b[0m: name 'model' is not defined"
     ]
    }
   ],
   "source": [
    "# evalue model\n",
    "loss = model.evaluate_generator(test_it, steps=24)"
   ]
  },
  {
   "cell_type": "markdown",
   "metadata": {},
   "source": [
    "## **2. Example Dataset Structure**"
   ]
  },
  {
   "cell_type": "code",
   "execution_count": null,
   "metadata": {},
   "outputs": [],
   "source": []
  },
  {
   "cell_type": "markdown",
   "metadata": {},
   "source": [
    "## **3. How to Progressively Load Images**"
   ]
  },
  {
   "cell_type": "markdown",
   "metadata": {},
   "source": []
  }
 ],
 "metadata": {
  "kernelspec": {
   "display_name": "Python 3.8.10 ('tuanenv': venv)",
   "language": "python",
   "name": "python3"
  },
  "language_info": {
   "codemirror_mode": {
    "name": "ipython",
    "version": 3
   },
   "file_extension": ".py",
   "mimetype": "text/x-python",
   "name": "python",
   "nbconvert_exporter": "python",
   "pygments_lexer": "ipython3",
   "version": "3.8.10"
  },
  "orig_nbformat": 4,
  "vscode": {
   "interpreter": {
    "hash": "77227ae599fefda37eb5d3f0accc62f86a2f8bd7fd36c67fe6426faa5887255f"
   }
  }
 },
 "nbformat": 4,
 "nbformat_minor": 2
}
