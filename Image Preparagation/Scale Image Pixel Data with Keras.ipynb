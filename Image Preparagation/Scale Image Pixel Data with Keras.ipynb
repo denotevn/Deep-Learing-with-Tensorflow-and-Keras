{
 "cells": [
  {
   "cell_type": "markdown",
   "metadata": {},
   "source": [
    "## What we learn:\n",
    "+ Cách cấu hình và sử dụng lớp ImageDataGenerator để huấn luyện, xác nhận và kiểm tra tập dữ liệu hình ảnh.\n",
    "+ Cách sử dụng ImageDataGenerator để chuẩn hóa các giá trị pixel cho hình ảnh đoàn tàu và thử nghiệm\n",
    "tập dữ liệu.\n",
    "+ Cách sử dụng ImageDataGenerator để căn giữa và chuẩn hóa các giá trị pixel cho tập dữ liệu hình ảnh đào tạo và kiểm tra.\n",
    "\n",
    "> 1. MNIST Handwritten Image Classification Dataset.\n",
    "> 2. ImageDataGenerator Class for Pixel Scaling\n",
    "> 3. How to Normalize Images With ImageDataGenerator\n",
    "> 4. How to Center Images With ImageDataGenerator\n",
    "> 5. How to Standardize Images With ImageDataGenerator"
   ]
  },
  {
   "cell_type": "code",
   "execution_count": 9,
   "metadata": {},
   "outputs": [
    {
     "name": "stdout",
     "output_type": "stream",
     "text": [
      "Train (60000, 28, 28) (60000,)\n",
      "Test ((10000, 28, 28), (10000,))\n",
      "Train 0 255 33.318421449829934 78.56748998339798\n",
      "Test 0 255 33.791224489795916 79.17246322228644\n"
     ]
    }
   ],
   "source": [
    "from keras.datasets import mnist\n",
    "from keras.datasets import mnist\n",
    "from keras.utils import to_categorical\n",
    "from keras.models import Sequential\n",
    "from keras.layers import Dense, MaxPooling2D, Flatten, Conv2D\n",
    "from keras.preprocessing.image import ImageDataGenerator\n",
    "(x_train, y_train), (x_test, y_test) = mnist.load_data()\n",
    "# summarize dataset shape\n",
    "print('Train', x_train.shape, y_train.shape)\n",
    "print('Test', (x_test.shape, y_test.shape))\n",
    "# summarize pixel values\n",
    "print('Train', x_train.min(), x_train.max(), x_train.mean(),\n",
    "x_train.std())\n",
    "print('Test', x_test.min(), x_test.max(), x_test.mean(), x_test.std())"
   ]
  },
  {
   "cell_type": "code",
   "execution_count": 10,
   "metadata": {},
   "outputs": [],
   "source": [
    "# reshaping the dataset to have a single channel\n",
    "width, height, channels = x_train.shape[1], x_train.shape[2], 1 # 28x28x1\n",
    "x_train= x_train.reshape((x_train.shape[0], width, height, channels))\n",
    "x_test = x_test.reshape((x_test.shape[0], width, height, channels))\n",
    "\n",
    "y_train = to_categorical(y_train)\n",
    "y_test = to_categorical(y_test)"
   ]
  },
  {
   "cell_type": "markdown",
   "metadata": {},
   "source": [
    "> Lớp ImageDataGenerator trong Keras cung cấp một bộ kỹ thuật để chia tỷ lệ giá trị pixel trong tập dữ liệu hình ảnh của bạn trước khi tạo mô hình\n",
    "\n",
    "+ The usage of the ImageDataGenerator class is as follows.\n",
    "1. Load your dataset.\n",
    "2. Configure the ImageDataGenerator (e.g. construct an instance).\n",
    "3. Calculate image statistics (e.g. call the fit() function).\n",
    "4. Use the generator to fit the model (e.g. pass the instance to the fit generator() function).\n",
    "5. Use the generator to evaluate the model (e.g. pass the instance to he evaluate generator() function).\n",
    "> \n",
    "1. Tải tập dữ liệu của bạn.\n",
    "2. Định cấu hình ImageDataGenerator (ví dụ: tạo một phiên bản).\n",
    "3. Tính toán thống kê hình ảnh (ví dụ: gọi hàm fit ()).\n",
    "4. Sử dụng trình tạo để phù hợp với mô hình (ví dụ: truyền phiên bản cho hàm fit create ()).\n",
    "5. Sử dụng trình tạo để đánh giá mô hình (ví dụ: chuyển phiên bản cho\n",
    "  anh ta đánh giá hàm máy phát ())."
   ]
  },
  {
   "cell_type": "markdown",
   "metadata": {},
   "source": [
    "+ Pixel Normalization: scale pixel values to the range 0-1.\n",
    "+ Pixel Centering: scale pixel values to have a zero mean.\n",
    "+ Pixel Standardization: scale pixel values to have a zero mean and unit variance."
   ]
  },
  {
   "cell_type": "code",
   "execution_count": 11,
   "metadata": {},
   "outputs": [
    {
     "name": "stdout",
     "output_type": "stream",
     "text": [
      "(64, 28, 28, 1) 0.020053953\n"
     ]
    }
   ],
   "source": [
    "from keras.preprocessing.image import ImageDataGenerator\n",
    "datagen = ImageDataGenerator(\n",
    "        rescale=1.0/255.0, # Normalize Images With ImageDataGenerator\n",
    "        featurewise_center=True, #Center Images With ImageDataGenerator\n",
    "        featurewise_std_normalization=True, # Standardize Images With ImageDataGenerator\n",
    "\n",
    ")\n",
    "\n",
    "datagen.fit(x_train)\n",
    "# demonstrate effect on a single batch of samples\n",
    "train_iterator = datagen.flow(x_train,y_train, batch_size=64)\n",
    "test_iterator = datagen.flow(x_test, y_test, batch_size=64)\n",
    "# get a batch\n",
    "batchX, batchy = train_iterator.next()\n",
    "print(batchX.shape, batchX.mean())"
   ]
  },
  {
   "cell_type": "code",
   "execution_count": 12,
   "metadata": {},
   "outputs": [
    {
     "name": "stdout",
     "output_type": "stream",
     "text": [
      "Epoch 1/10\n"
     ]
    },
    {
     "name": "stderr",
     "output_type": "stream",
     "text": [
      "/tmp/ipykernel_26924/2239483369.py:17: UserWarning: `Model.fit_generator` is deprecated and will be removed in a future version. Please use `Model.fit`, which supports generators.\n",
      "  model.fit_generator(train_iterator, steps_per_epoch=len(train_iterator),\n"
     ]
    },
    {
     "name": "stdout",
     "output_type": "stream",
     "text": [
      "  7/938 [..............................] - ETA: 20s - loss: 2.1805 - accuracy: 0.2232"
     ]
    },
    {
     "name": "stderr",
     "output_type": "stream",
     "text": [
      "2022-08-06 17:08:42.884532: W tensorflow/core/framework/cpu_allocator_impl.cc:82] Allocation of 17981568 exceeds 10% of free system memory.\n",
      "2022-08-06 17:08:42.884575: W tensorflow/core/framework/cpu_allocator_impl.cc:82] Allocation of 17981568 exceeds 10% of free system memory.\n",
      "2022-08-06 17:08:42.907177: W tensorflow/core/framework/cpu_allocator_impl.cc:82] Allocation of 17981568 exceeds 10% of free system memory.\n",
      "2022-08-06 17:08:42.907284: W tensorflow/core/framework/cpu_allocator_impl.cc:82] Allocation of 17981568 exceeds 10% of free system memory.\n",
      "2022-08-06 17:08:42.930359: W tensorflow/core/framework/cpu_allocator_impl.cc:82] Allocation of 17981568 exceeds 10% of free system memory.\n"
     ]
    },
    {
     "name": "stdout",
     "output_type": "stream",
     "text": [
      "938/938 [==============================] - 24s 25ms/step - loss: 0.1529 - accuracy: 0.9538\n",
      "Epoch 2/10\n",
      "938/938 [==============================] - 23s 25ms/step - loss: 0.0476 - accuracy: 0.9853\n",
      "Epoch 3/10\n",
      "938/938 [==============================] - 23s 25ms/step - loss: 0.0326 - accuracy: 0.9898\n",
      "Epoch 4/10\n",
      "938/938 [==============================] - 23s 25ms/step - loss: 0.0257 - accuracy: 0.9921\n",
      "Epoch 5/10\n",
      "938/938 [==============================] - 23s 24ms/step - loss: 0.0187 - accuracy: 0.9943\n",
      "Epoch 6/10\n",
      "938/938 [==============================] - 23s 25ms/step - loss: 0.0163 - accuracy: 0.9948\n",
      "Epoch 7/10\n",
      "938/938 [==============================] - 24s 25ms/step - loss: 0.0124 - accuracy: 0.9959\n",
      "Epoch 8/10\n",
      "938/938 [==============================] - 24s 25ms/step - loss: 0.0113 - accuracy: 0.9965\n",
      "Epoch 9/10\n",
      "938/938 [==============================] - 23s 25ms/step - loss: 0.0089 - accuracy: 0.9970\n",
      "Epoch 10/10\n",
      "938/938 [==============================] - 23s 25ms/step - loss: 0.0090 - accuracy: 0.9969\n"
     ]
    },
    {
     "name": "stderr",
     "output_type": "stream",
     "text": [
      "/tmp/ipykernel_26924/2239483369.py:21: UserWarning: `Model.evaluate_generator` is deprecated and will be removed in a future version. Please use `Model.evaluate`, which supports generators.\n",
      "  _, acc = model.evaluate_generator(test_iterator, steps=len(test_iterator),\n"
     ]
    },
    {
     "name": "stdout",
     "output_type": "stream",
     "text": [
      "Test Accuracy: 99.120\n"
     ]
    }
   ],
   "source": [
    "# defining the model\n",
    "model = Sequential()\n",
    "model.add(Conv2D(32, (3, 3), activation='relu',\n",
    "                 input_shape=(width, height, channels)))\n",
    "model.add(MaxPooling2D((2, 2)))\n",
    "model.add(Conv2D(64, (3, 3), activation='relu'))\n",
    "model.add(MaxPooling2D((2, 2)))\n",
    "model.add(Flatten())\n",
    "model.add(Dense(64, activation='relu'))\n",
    "model.add(Dense(10, activation='softmax'))\n",
    "  \n",
    "# compiling the  model\n",
    "model.compile(optimizer='adam', loss='categorical_crossentropy',\n",
    "              metrics=['accuracy'])\n",
    "  \n",
    "# fitting the model with the generator\n",
    "model.fit_generator(train_iterator, steps_per_epoch=len(train_iterator),\n",
    "                    epochs=10)\n",
    "  \n",
    "# evaluating the model\n",
    "_, acc = model.evaluate_generator(test_iterator, steps=len(test_iterator),\n",
    "                                  verbose=0)\n",
    "print('Test Accuracy: %.3f' % (acc * 100))"
   ]
  }
 ],
 "metadata": {
  "kernelspec": {
   "display_name": "Python 3.8.10 64-bit",
   "language": "python",
   "name": "python3"
  },
  "language_info": {
   "codemirror_mode": {
    "name": "ipython",
    "version": 3
   },
   "file_extension": ".py",
   "mimetype": "text/x-python",
   "name": "python",
   "nbconvert_exporter": "python",
   "pygments_lexer": "ipython3",
   "version": "3.8.10"
  },
  "orig_nbformat": 4,
  "vscode": {
   "interpreter": {
    "hash": "916dbcbb3f70747c44a77c7bcd40155683ae19c65e1c03b4aa3499c5328201f1"
   }
  }
 },
 "nbformat": 4,
 "nbformat_minor": 2
}
