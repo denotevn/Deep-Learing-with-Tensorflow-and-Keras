{
 "cells": [
  {
   "cell_type": "markdown",
   "metadata": {},
   "source": [
    "### 1. ImageNet Dataset\n",
    "+ ImageNet là một tập dữ liệu lớn về các bức ảnh có chú thích dành cho nghiên cứu thị giác máy tính. Mục tiêu của việc phát triển tập dữ liệu là cung cấp một nguồn lực để thúc đẩy việc nghiên cứu và phát triển các phương pháp cải tiến cho thị giác máy tính"
   ]
  },
  {
   "cell_type": "markdown",
   "metadata": {},
   "source": [
    "### 2. Thử thách nhận dạng hình ảnh quy mô lớn ImageNet (ILSVRC)\n",
    "+ Thử thách Nhận dạng Hình ảnh Quy mô lớn ImageNet, gọi tắt là ILSVRC, là một cuộc thi về thị giác máy tính được tổ chức hàng năm, trong đó các nhiệm vụ thử thách sử dụng các tập con của tập dữ liệu ImageNet.\n",
    "+ The general challenge tasks for most years are as follows:\n",
    "  + Image classification: Predict the classes of objects present in an image.\n",
    "  + Single-object localization: Image classification + draw a bounding box around one\n",
    "example of each object present\n",
    "  + Object detection: Image classification + draw a bounding box around each object\n",
    "present."
   ]
  },
  {
   "cell_type": "markdown",
   "metadata": {},
   "source": [
    "> ***Một số mạng khác : AlexNet (2012) , GoogleNet (2014), ZFNet (Clarifai), VGG (2014), ResNet (MSRA) (2015)***"
   ]
  },
  {
   "cell_type": "code",
   "execution_count": null,
   "metadata": {},
   "outputs": [],
   "source": []
  }
 ],
 "metadata": {
  "language_info": {
   "name": "python"
  },
  "orig_nbformat": 4
 },
 "nbformat": 4,
 "nbformat_minor": 2
}
