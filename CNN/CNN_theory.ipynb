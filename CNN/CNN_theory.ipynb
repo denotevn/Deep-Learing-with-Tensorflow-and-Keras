{
 "cells": [
  {
   "cell_type": "markdown",
   "metadata": {},
   "source": [
    "1. Convolutional layer để làm gì? Lại sao mỗi layer cần nhiều kernel?\n",
    "+ Với mỗi kernel khác nhau ta sẽ học được những đặc trưng khác nhau của ảnh, nên trong mỗi convolutional layer ta sẽ dùng nhiều kernel để học được nhiều thuộc tính của ảnh. Vì mỗi kernel cho ra output là 1 matrix nên k kernel sẽ cho ra k output matrix.\n",
    "2. Hệ số của convolutional layer là gì?\n",
    "+ Filter Map: Nếu như ANN kết nối với từng Pixel của hình ảnh đầu vào thì CNN được sử dụng những Filter để áp vào các vùng của hình ảnh. Những Filter Map này có thể xem là một ma trận 3 chiều, bao gồm những con số và các con số chính là Parameter.\n",
    "+ Stride: Trong Convolutional Neural Network, Stride được hiểu là khi chúng ta dịch chuyển Filter Map theo Pixel và dựa vào giá trị từ trái sang phải. Stride đơn giản là biểu thị sự dịch chuyển này.\n",
    "+ Padding: Padding chính là những giá trị 0 được thêm vào lớp Input.\n",
    "+ Feature Map: Đây là kết quả hiển thị sau mỗi lần Filter Map quét qua Input. Cứ mỗi lần quét như vậy, bạn sẽ thấy sự xuất hiện của quá trình tính toán được xảy ra.\n",
    "3. Tại sao cần flatten trong CNN?\n",
    "+ Ta dùng các fully connected (class flatten) layer để kết hợp các đặc điểm của ảnh để ra được output của\n",
    "model.\n",
    "4. Tại sao trong model VGG16, ở layer càng sâu thì wight, height giảm nhưng depth lại tăng.\n",
    "+ Vì càng ở layer sâu các đặc tính đã được máy nhận biết nhiều hơn biểu hiện ở depth tăng lên. Các đặc tính đã được học or không cần thiết sẽ được loại bỏ nên high và weigth sẽ giảm suống (Góc nhìn nhận các nhân)"
   ]
  },
  {
   "cell_type": "markdown",
   "metadata": {},
   "source": [
    ">**Với các bài toán classification (phân loại) thì nếu có 2 lớp thì hàm activation ở output layer là hàm sigmoid và hàm loss function là binary_crossentropy, còn nhiều hơn 2 lớp thì hàm activation ở ouput layer là hàm softmax với loss function là hàm categorical_crossentropy**\n",
    "\n",
    "\n",
    "> **1. Tại sao cần dùng softmax activation ở layer cuối cùng?**\n",
    "+ **Với các bài toán classification (phân loại) thì nếu có 2 lớp thì hàm activation ở output layer là hàm sigmoid và hàm loss function là binary_crossentropy, còn nhiều hơn 2 lớp thì hàm activation ở ouput layer là hàm softmax với loss function là hàm categorical_crossentropy**"
   ]
  },
  {
   "cell_type": "markdown",
   "metadata": {},
   "source": []
  }
 ],
 "metadata": {
  "kernelspec": {
   "display_name": "Python 3.8.10 64-bit",
   "language": "python",
   "name": "python3"
  },
  "language_info": {
   "name": "python",
   "version": "3.8.10"
  },
  "orig_nbformat": 4,
  "vscode": {
   "interpreter": {
    "hash": "916dbcbb3f70747c44a77c7bcd40155683ae19c65e1c03b4aa3499c5328201f1"
   }
  }
 },
 "nbformat": 4,
 "nbformat_minor": 2
}
