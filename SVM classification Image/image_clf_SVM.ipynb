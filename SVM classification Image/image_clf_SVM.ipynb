{
 "cells": [
  {
   "cell_type": "code",
   "execution_count": 16,
   "metadata": {},
   "outputs": [],
   "source": [
    "import os\n",
    "import cv2\n",
    "import imghdr\n",
    "import numpy as np\n",
    "import matplotlib.pyplot as plt\n",
    "# In Python, you can use pickle to serialize (deserialize) an object structure into (from) a byte stream\n",
    "import pickle\n",
    "from sklearn.model_selection import train_test_split\n",
    "from sklearn.svm import SVC"
   ]
  },
  {
   "cell_type": "markdown",
   "metadata": {},
   "source": [
    "## **1. Remove dodgy images**"
   ]
  },
  {
   "cell_type": "code",
   "execution_count": 2,
   "metadata": {},
   "outputs": [],
   "source": [
    "image_exts = [\"jpg\",\"jpeg\",\"bmp\",\"png\"]"
   ]
  },
  {
   "cell_type": "code",
   "execution_count": 3,
   "metadata": {},
   "outputs": [
    {
     "name": "stdout",
     "output_type": "stream",
     "text": [
      "Image not in ext lish data/cat/344x361_FoundACat.jpg\n",
      "Image not in ext lish data/cat/vector8.svg\n",
      "Image not in ext lish data/cat/vector6.svg\n",
      "Image not in ext lish data/cat/vector.svg\n",
      "Image not in ext lish data/cat/seven-steps-to-toilet-train-cat-1.jpg\n",
      "Image not in ext lish data/cat/portrait-gray-tabby-cat-on-260nw-1180312252.jpg\n",
      "Image not in ext lish data/cat/vector12.svg\n",
      "Image not in ext lish data/cat/cat-behaviour.jpg\n",
      "Image not in ext lish data/cat/vector4.svg\n",
      "Image not in ext lish data/cat/portrait-surprised-cat-scottish-straight-260nw-499196506.jpg\n",
      "Image not in ext lish data/cat/cat-toes-paw-number-paws-tiger-tabby.jpg\n",
      "Image not in ext lish data/cat/1200px-Cat_November_2010-1a.jpg\n",
      "Image not in ext lish data/cat/blue-eyed-cat-260nw-259729697.jpg\n",
      "Image not in ext lish data/cat/vector10.svg\n",
      "Image not in ext lish data/cat/the-cat-on-white-background_155003-15381.jpg\n",
      "Image not in ext lish data/cat/vector3.svg\n",
      "Image not in ext lish data/cat/vector5.svg\n",
      "Image not in ext lish data/cat/cs-pet-health-cat-exercises-1440x810.jpg\n",
      "Image not in ext lish data/cat/250px-Gatto_europeo4.jpg\n",
      "Image not in ext lish data/cat/Himalayan-chocolate-point.jpg\n",
      "Image not in ext lish data/cat/192px.svg\n",
      "Image not in ext lish data/cat/vector13.svg\n",
      "Image not in ext lish data/cat/vector14.svg\n",
      "Image not in ext lish data/cat/vector11.svg\n",
      "Image not in ext lish data/cat/2528443-bengal.png\n",
      "Image not in ext lish data/cat/h5mk7js_cat-generic_625x300_28_August_20.jpg\n",
      "Image not in ext lish data/cat/vector9.svg\n",
      "Image not in ext lish data/cat/800px-Feral_cat_Virginia_crop.jpg\n",
      "Image not in ext lish data/cat/vector7.svg\n",
      "Image not in ext lish data/cat/domestic-cat_thumb.jpg\n",
      "Image not in ext lish data/cat/vector2.svg\n",
      "Image not in ext lish data/cat/_6bda0940-b9ad-11e9-98cb-e738ad509720.jpg\n",
      "Image not in ext lish data/dog/vector8.svg\n",
      "Image not in ext lish data/dog/illustration-dogs-collection_53876-17281.jpg\n",
      "Image not in ext lish data/dog/vector6.svg\n",
      "Image not in ext lish data/dog/vector.svg\n",
      "Image not in ext lish data/dog/vector12.svg\n",
      "Image not in ext lish data/dog/vector4.svg\n",
      "Image not in ext lish data/dog/1200px-Labrador_on_Quantock_28217526218429.jpg\n",
      "Image not in ext lish data/dog/sticker-template-dog-cartoon-character_1308-72445.jpg\n",
      "Image not in ext lish data/dog/Bernese-mountain-dog-grass.jpg\n",
      "Image not in ext lish data/dog/vector10.svg\n",
      "Image not in ext lish data/dog/vector3.svg\n",
      "Image not in ext lish data/dog/qpi03ke_man-becomes-a-dog_625x300_25_May_22.jpg\n",
      "Image not in ext lish data/dog/German-shepherd.jpg\n",
      "Image not in ext lish data/dog/vector5.svg\n",
      "Image not in ext lish data/dog/192px.svg\n",
      "Image not in ext lish data/dog/NationalGeographic_2731043_4x3.jpg\n",
      "Image not in ext lish data/dog/young-dogs-jumping-playing-flying-260nw-1715333539.jpg\n",
      "Image not in ext lish data/dog/vector13.svg\n",
      "Image not in ext lish data/dog/vector14.svg\n",
      "Image not in ext lish data/dog/vector11.svg\n",
      "Image not in ext lish data/dog/domestic-dog_thumb_4x3.jpg\n",
      "Image not in ext lish data/dog/vector9.svg\n",
      "Image not in ext lish data/dog/vector7.svg\n",
      "Image not in ext lish data/dog/vector2.svg\n",
      "Image not in ext lish data/dog/domestic-dog_thumb_3x4.jpg\n"
     ]
    }
   ],
   "source": [
    "data_dir = 'data'\n",
    "for image_class in os.listdir(data_dir):\n",
    "    for image in os.listdir(os.path.join(data_dir, image_class)):\n",
    "        image_path = os.path.join(data_dir, image_class, image)\n",
    "        try:\n",
    "            img = cv2.imread(image_path)\n",
    "            tip = imghdr.what(image_path)\n",
    "            if tip not in image_exts:\n",
    "                print(f\"Image not in ext lish {image_path}\")\n",
    "                os.remove(image_path)\n",
    "        except Exception as e:\n",
    "            print(f\"Issu with image {image_path}\")"
   ]
  },
  {
   "cell_type": "markdown",
   "metadata": {},
   "source": [
    "> **We create data in this code below and then we using pickle for create data for training model**"
   ]
  },
  {
   "cell_type": "code",
   "execution_count": 8,
   "metadata": {},
   "outputs": [
    {
     "name": "stdout",
     "output_type": "stream",
     "text": [
      "316\n"
     ]
    }
   ],
   "source": [
    "categories = os.listdir(data_dir)\n",
    "categories\n",
    "data = []\n",
    "for image_class in os.listdir(data_dir):\n",
    "    path = os.path.join(data_dir, image_class)\n",
    "    label = categories.index(image_class)\n",
    "    for img in os.listdir(path):\n",
    "        imgpath = os.path.join(path,img)\n",
    "        try:\n",
    "            pet_img = cv2.imread(imgpath,0)\n",
    "            pet_img = cv2.resize(pet_img, (50,50))\n",
    "            image = np.array(pet_img).flatten()\n",
    "            data.append([image, label])\n",
    "        except Exception as e:\n",
    "            pass\n",
    "\n",
    "print(len(data))   "
   ]
  },
  {
   "cell_type": "markdown",
   "metadata": {},
   "source": [
    "## **2. Create data for training**"
   ]
  },
  {
   "cell_type": "code",
   "execution_count": 12,
   "metadata": {},
   "outputs": [],
   "source": [
    "pick_in = open('data1.pickle', 'wb')\n",
    "pickle.dump(data, pick_in)\n",
    "pick_in.close()"
   ]
  },
  {
   "cell_type": "code",
   "execution_count": 14,
   "metadata": {},
   "outputs": [],
   "source": [
    "pick_out = open('data1.pickle','rb')\n",
    "data = pickle.load(pick_out)\n",
    "pick_out.close()"
   ]
  },
  {
   "cell_type": "markdown",
   "metadata": {},
   "source": [
    "```\n",
    "[[[1,2,3,4],0], [ [1,2,3,6],0]]\n",
    "feature = [1,2,3,6]\n",
    "label = 0\n",
    "```"
   ]
  },
  {
   "cell_type": "code",
   "execution_count": 18,
   "metadata": {},
   "outputs": [],
   "source": [
    "import random\n",
    "\n",
    "\n",
    "random.shuffle(data)\n",
    "features = []\n",
    "labels = []\n",
    "\n",
    "for feature, label in data:\n",
    "    features.append(feature)\n",
    "    labels.append(label)"
   ]
  },
  {
   "cell_type": "code",
   "execution_count": 19,
   "metadata": {},
   "outputs": [],
   "source": [
    "xtrain, xtest, ytrain, ytest = train_test_split(features, labels, test_size=0.25, shuffle=True)\n",
    "model = SVC(C=1, kernel='poly', gamma='auto')"
   ]
  },
  {
   "cell_type": "code",
   "execution_count": 20,
   "metadata": {},
   "outputs": [
    {
     "data": {
      "text/html": [
       "<style>#sk-container-id-1 {color: black;background-color: white;}#sk-container-id-1 pre{padding: 0;}#sk-container-id-1 div.sk-toggleable {background-color: white;}#sk-container-id-1 label.sk-toggleable__label {cursor: pointer;display: block;width: 100%;margin-bottom: 0;padding: 0.3em;box-sizing: border-box;text-align: center;}#sk-container-id-1 label.sk-toggleable__label-arrow:before {content: \"▸\";float: left;margin-right: 0.25em;color: #696969;}#sk-container-id-1 label.sk-toggleable__label-arrow:hover:before {color: black;}#sk-container-id-1 div.sk-estimator:hover label.sk-toggleable__label-arrow:before {color: black;}#sk-container-id-1 div.sk-toggleable__content {max-height: 0;max-width: 0;overflow: hidden;text-align: left;background-color: #f0f8ff;}#sk-container-id-1 div.sk-toggleable__content pre {margin: 0.2em;color: black;border-radius: 0.25em;background-color: #f0f8ff;}#sk-container-id-1 input.sk-toggleable__control:checked~div.sk-toggleable__content {max-height: 200px;max-width: 100%;overflow: auto;}#sk-container-id-1 input.sk-toggleable__control:checked~label.sk-toggleable__label-arrow:before {content: \"▾\";}#sk-container-id-1 div.sk-estimator input.sk-toggleable__control:checked~label.sk-toggleable__label {background-color: #d4ebff;}#sk-container-id-1 div.sk-label input.sk-toggleable__control:checked~label.sk-toggleable__label {background-color: #d4ebff;}#sk-container-id-1 input.sk-hidden--visually {border: 0;clip: rect(1px 1px 1px 1px);clip: rect(1px, 1px, 1px, 1px);height: 1px;margin: -1px;overflow: hidden;padding: 0;position: absolute;width: 1px;}#sk-container-id-1 div.sk-estimator {font-family: monospace;background-color: #f0f8ff;border: 1px dotted black;border-radius: 0.25em;box-sizing: border-box;margin-bottom: 0.5em;}#sk-container-id-1 div.sk-estimator:hover {background-color: #d4ebff;}#sk-container-id-1 div.sk-parallel-item::after {content: \"\";width: 100%;border-bottom: 1px solid gray;flex-grow: 1;}#sk-container-id-1 div.sk-label:hover label.sk-toggleable__label {background-color: #d4ebff;}#sk-container-id-1 div.sk-serial::before {content: \"\";position: absolute;border-left: 1px solid gray;box-sizing: border-box;top: 0;bottom: 0;left: 50%;z-index: 0;}#sk-container-id-1 div.sk-serial {display: flex;flex-direction: column;align-items: center;background-color: white;padding-right: 0.2em;padding-left: 0.2em;position: relative;}#sk-container-id-1 div.sk-item {position: relative;z-index: 1;}#sk-container-id-1 div.sk-parallel {display: flex;align-items: stretch;justify-content: center;background-color: white;position: relative;}#sk-container-id-1 div.sk-item::before, #sk-container-id-1 div.sk-parallel-item::before {content: \"\";position: absolute;border-left: 1px solid gray;box-sizing: border-box;top: 0;bottom: 0;left: 50%;z-index: -1;}#sk-container-id-1 div.sk-parallel-item {display: flex;flex-direction: column;z-index: 1;position: relative;background-color: white;}#sk-container-id-1 div.sk-parallel-item:first-child::after {align-self: flex-end;width: 50%;}#sk-container-id-1 div.sk-parallel-item:last-child::after {align-self: flex-start;width: 50%;}#sk-container-id-1 div.sk-parallel-item:only-child::after {width: 0;}#sk-container-id-1 div.sk-dashed-wrapped {border: 1px dashed gray;margin: 0 0.4em 0.5em 0.4em;box-sizing: border-box;padding-bottom: 0.4em;background-color: white;}#sk-container-id-1 div.sk-label label {font-family: monospace;font-weight: bold;display: inline-block;line-height: 1.2em;}#sk-container-id-1 div.sk-label-container {text-align: center;}#sk-container-id-1 div.sk-container {/* jupyter's `normalize.less` sets `[hidden] { display: none; }` but bootstrap.min.css set `[hidden] { display: none !important; }` so we also need the `!important` here to be able to override the default hidden behavior on the sphinx rendered scikit-learn.org. See: https://github.com/scikit-learn/scikit-learn/issues/21755 */display: inline-block !important;position: relative;}#sk-container-id-1 div.sk-text-repr-fallback {display: none;}</style><div id=\"sk-container-id-1\" class=\"sk-top-container\"><div class=\"sk-text-repr-fallback\"><pre>SVC(C=1, gamma=&#x27;auto&#x27;, kernel=&#x27;poly&#x27;)</pre><b>In a Jupyter environment, please rerun this cell to show the HTML representation or trust the notebook. <br />On GitHub, the HTML representation is unable to render, please try loading this page with nbviewer.org.</b></div><div class=\"sk-container\" hidden><div class=\"sk-item\"><div class=\"sk-estimator sk-toggleable\"><input class=\"sk-toggleable__control sk-hidden--visually\" id=\"sk-estimator-id-1\" type=\"checkbox\" checked><label for=\"sk-estimator-id-1\" class=\"sk-toggleable__label sk-toggleable__label-arrow\">SVC</label><div class=\"sk-toggleable__content\"><pre>SVC(C=1, gamma=&#x27;auto&#x27;, kernel=&#x27;poly&#x27;)</pre></div></div></div></div></div>"
      ],
      "text/plain": [
       "SVC(C=1, gamma='auto', kernel='poly')"
      ]
     },
     "execution_count": 20,
     "metadata": {},
     "output_type": "execute_result"
    }
   ],
   "source": [
    "model.fit(xtrain, ytrain)"
   ]
  },
  {
   "cell_type": "code",
   "execution_count": 22,
   "metadata": {},
   "outputs": [],
   "source": [
    "prediction = model.predict(xtest)"
   ]
  },
  {
   "cell_type": "code",
   "execution_count": 27,
   "metadata": {},
   "outputs": [
    {
     "name": "stdout",
     "output_type": "stream",
     "text": [
      "Accuracy: 0.6708860759493671\n",
      "Prediction is: cat\n"
     ]
    }
   ],
   "source": [
    "accuracy = model.score(xtest, ytest)\n",
    "print(f\"Accuracy: {accuracy}\")\n",
    "print(f\"Prediction is: {categories[prediction[0]]}\")"
   ]
  },
  {
   "cell_type": "code",
   "execution_count": 29,
   "metadata": {},
   "outputs": [
    {
     "data": {
      "image/png": "[encoded data removed]",
      "text/plain": [
       "<Figure size 432x288 with 1 Axes>"
      ]
     },
     "metadata": {
      "needs_background": "light"
     },
     "output_type": "display_data"
    }
   ],
   "source": [
    "from ctypes.wintypes import RGB\n",
    "\n",
    "\n",
    "img = xtest[0].reshape(50,50)\n",
    "plt.imshow(img, cmap='gray')\n",
    "plt.show()"
   ]
  },
  {
   "cell_type": "markdown",
   "metadata": {},
   "source": [
    "## **3. Save model**"
   ]
  },
  {
   "cell_type": "code",
   "execution_count": 30,
   "metadata": {},
   "outputs": [],
   "source": [
    "pick = open('model.sav', 'wb')\n",
    "pickle.dump(model, pick)\n",
    "pick.close()"
   ]
  }
 ],
 "metadata": {
  "kernelspec": {
   "display_name": "Python 3.8.10 ('tuanenv': venv)",
   "language": "python",
   "name": "python3"
  },
  "language_info": {
   "codemirror_mode": {
    "name": "ipython",
    "version": 3
   },
   "file_extension": ".py",
   "mimetype": "text/x-python",
   "name": "python",
   "nbconvert_exporter": "python",
   "pygments_lexer": "ipython3",
   "version": "3.8.10"
  },
  "orig_nbformat": 4,
  "vscode": {
   "interpreter": {
    "hash": "77227ae599fefda37eb5d3f0accc62f86a2f8bd7fd36c67fe6426faa5887255f"
   }
  }
 },
 "nbformat": 4,
 "nbformat_minor": 2
}
